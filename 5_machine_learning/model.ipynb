{
 "cells": [
  {
   "cell_type": "code",
   "execution_count": 24,
   "metadata": {},
   "outputs": [],
   "source": [
    "import pandas as pd\n",
    "import numpy as np\n",
    "from pandas_profiling import ProfileReport\n",
    "from sklearn.preprocessing import OneHotEncoder"
   ]
  },
  {
   "cell_type": "code",
   "execution_count": 25,
   "metadata": {},
   "outputs": [
    {
     "name": "stdout",
     "output_type": "stream",
     "text": [
      "          0      1      2     3      4     5      6\n",
      "0     vhigh  vhigh      2     2  small   low  unacc\n",
      "1     vhigh  vhigh      2     2  small   med  unacc\n",
      "2     vhigh  vhigh      2     2  small  high  unacc\n",
      "3     vhigh  vhigh      2     2    med   low  unacc\n",
      "4     vhigh  vhigh      2     2    med   med  unacc\n",
      "...     ...    ...    ...   ...    ...   ...    ...\n",
      "1723    low    low  5more  more    med   med   good\n",
      "1724    low    low  5more  more    med  high  vgood\n",
      "1725    low    low  5more  more    big   low  unacc\n",
      "1726    low    low  5more  more    big   med   good\n",
      "1727    low    low  5more  more    big  high  vgood\n",
      "\n",
      "[1728 rows x 7 columns]\n"
     ]
    }
   ],
   "source": [
    "# read in csv\n",
    "data = pd.read_csv('./car.data', header=None, sep=',')\n",
    "print(data)"
   ]
  },
  {
   "cell_type": "code",
   "execution_count": 26,
   "metadata": {},
   "outputs": [
    {
     "name": "stdout",
     "output_type": "stream",
     "text": [
      "     buying  maint  doors person lugboot safety  class\n",
      "0     vhigh  vhigh      2      2   small    low  unacc\n",
      "1     vhigh  vhigh      2      2   small    med  unacc\n",
      "2     vhigh  vhigh      2      2   small   high  unacc\n",
      "3     vhigh  vhigh      2      2     med    low  unacc\n",
      "4     vhigh  vhigh      2      2     med    med  unacc\n",
      "...     ...    ...    ...    ...     ...    ...    ...\n",
      "1723    low    low  5more   more     med    med   good\n",
      "1724    low    low  5more   more     med   high  vgood\n",
      "1725    low    low  5more   more     big    low  unacc\n",
      "1726    low    low  5more   more     big    med   good\n",
      "1727    low    low  5more   more     big   high  vgood\n",
      "\n",
      "[1728 rows x 7 columns]\n"
     ]
    }
   ],
   "source": [
    "# add in column names\n",
    "data.columns = ['buying', 'maint', 'doors', 'person', 'lugboot', 'safety', 'class']\n",
    "print(data)"
   ]
  },
  {
   "cell_type": "markdown",
   "metadata": {},
   "source": [
    "# Data Exploration\n",
    "`person` and `safety` have the strongest correlation to class, followed by `buying`, `maint`, `lugboot`. `doors` have very weak correlation to class."
   ]
  },
  {
   "cell_type": "code",
   "execution_count": 34,
   "metadata": {},
   "outputs": [
    {
     "name": "stderr",
     "output_type": "stream",
     "text": [
      "Summarize dataset: 100%|██████████| 20/20 [00:00<00:00, 29.68it/s, Completed]                    \n",
      "Generate report structure:   0%|          | 0/1 [00:00<?, ?it/s]"
     ]
    }
   ],
   "source": [
    "profile = ProfileReport(data)\n",
    "profile\n",
    "profile.to_file(\"data profiling.html\")"
   ]
  },
  {
   "cell_type": "code",
   "execution_count": 28,
   "metadata": {},
   "outputs": [
    {
     "name": "stdout",
     "output_type": "stream",
     "text": [
      "      buying_high  buying_low  buying_med  buying_vhigh  maint_high  \\\n",
      "0               0           0           0             1           0   \n",
      "1               0           0           0             1           0   \n",
      "2               0           0           0             1           0   \n",
      "3               0           0           0             1           0   \n",
      "4               0           0           0             1           0   \n",
      "...           ...         ...         ...           ...         ...   \n",
      "1723            0           1           0             0           0   \n",
      "1724            0           1           0             0           0   \n",
      "1725            0           1           0             0           0   \n",
      "1726            0           1           0             0           0   \n",
      "1727            0           1           0             0           0   \n",
      "\n",
      "      maint_low  maint_med  maint_vhigh  doors_2  doors_3  ...  person_2  \\\n",
      "0             0          0            1        1        0  ...         1   \n",
      "1             0          0            1        1        0  ...         1   \n",
      "2             0          0            1        1        0  ...         1   \n",
      "3             0          0            1        1        0  ...         1   \n",
      "4             0          0            1        1        0  ...         1   \n",
      "...         ...        ...          ...      ...      ...  ...       ...   \n",
      "1723          1          0            0        0        0  ...         0   \n",
      "1724          1          0            0        0        0  ...         0   \n",
      "1725          1          0            0        0        0  ...         0   \n",
      "1726          1          0            0        0        0  ...         0   \n",
      "1727          1          0            0        0        0  ...         0   \n",
      "\n",
      "      person_4  person_more  lugboot_big  lugboot_med  lugboot_small  \\\n",
      "0            0            0            0            0              1   \n",
      "1            0            0            0            0              1   \n",
      "2            0            0            0            0              1   \n",
      "3            0            0            0            1              0   \n",
      "4            0            0            0            1              0   \n",
      "...        ...          ...          ...          ...            ...   \n",
      "1723         0            1            0            1              0   \n",
      "1724         0            1            0            1              0   \n",
      "1725         0            1            1            0              0   \n",
      "1726         0            1            1            0              0   \n",
      "1727         0            1            1            0              0   \n",
      "\n",
      "      safety_high  safety_low  safety_med  class  \n",
      "0               0           1           0  unacc  \n",
      "1               0           0           1  unacc  \n",
      "2               1           0           0  unacc  \n",
      "3               0           1           0  unacc  \n",
      "4               0           0           1  unacc  \n",
      "...           ...         ...         ...    ...  \n",
      "1723            0           0           1   good  \n",
      "1724            1           0           0  vgood  \n",
      "1725            0           1           0  unacc  \n",
      "1726            0           0           1   good  \n",
      "1727            1           0           0  vgood  \n",
      "\n",
      "[1728 rows x 22 columns]\n",
      "['buying_high' 'buying_low' 'buying_med' 'buying_vhigh' 'maint_high'\n",
      " 'maint_low' 'maint_med' 'maint_vhigh' 'doors_2' 'doors_3' 'doors_4'\n",
      " 'doors_5more' 'person_2' 'person_4' 'person_more' 'lugboot_big'\n",
      " 'lugboot_med' 'lugboot_small' 'safety_high' 'safety_low' 'safety_med'\n",
      " 'class']\n"
     ]
    }
   ],
   "source": [
    "# one hot encode the categories\n",
    "columns = ['buying', 'maint', 'doors', 'person', 'lugboot', 'safety', 'class']\n",
    "def encode_and_bind(original_dataframe, feature_to_encode):\n",
    "    # for feature in feature_to_encode:\n",
    "    dummies = pd.get_dummies(original_dataframe[[feature_to_encode]])\n",
    "    res = pd.concat([original_dataframe, dummies], axis=1)\n",
    "    return(res)\n",
    "\n",
    "df = encode_and_bind(data, 'buying')\n",
    "df = encode_and_bind(df, 'maint')\n",
    "df = encode_and_bind(df, 'doors')\n",
    "df = encode_and_bind(df, 'person')\n",
    "df = encode_and_bind(df, 'lugboot')\n",
    "df = encode_and_bind(df, 'safety')\n",
    "# df = encode_and_bind(df, 'class')\n",
    "\n",
    "# drop the original columns except for class\n",
    "df.drop(['buying', 'maint', 'doors', 'person', 'lugboot', 'safety'], axis=1, inplace=True)\n",
    "\n",
    "\n",
    "# moving the 'class' column to the last in the dataframe\n",
    "df1 = df.pop('class') # remove column b and store it in df1\n",
    "df['class']=df1 # add b series as a 'new' column.\n",
    "print(df)\n",
    "print(df.columns.values)"
   ]
  },
  {
   "cell_type": "code",
   "execution_count": null,
   "metadata": {},
   "outputs": [],
   "source": [
    "# fit the model\n",
    "# predict"
   ]
  }
 ],
 "metadata": {
  "kernelspec": {
   "display_name": "Python 3.9.13 ('5_machine_learning': venv)",
   "language": "python",
   "name": "python3"
  },
  "language_info": {
   "codemirror_mode": {
    "name": "ipython",
    "version": 3
   },
   "file_extension": ".py",
   "mimetype": "text/x-python",
   "name": "python",
   "nbconvert_exporter": "python",
   "pygments_lexer": "ipython3",
   "version": "3.9.13"
  },
  "orig_nbformat": 4,
  "vscode": {
   "interpreter": {
    "hash": "c6fd9a965c40329abe9d5da335e4a45ba4ce8efea758d76d84d6ea7462e578f3"
   }
  }
 },
 "nbformat": 4,
 "nbformat_minor": 2
}
